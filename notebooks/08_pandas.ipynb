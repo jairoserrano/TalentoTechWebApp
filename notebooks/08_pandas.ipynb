{
 "cells": [
  {
   "cell_type": "markdown",
   "id": "8fdd4a8c-df38-4ee0-ab2d-e371017cbfdb",
   "metadata": {},
   "source": [
    "<img src=\"https://www.utb.edu.co/wp-content/uploads/2020/09/utb-logotipo.png\"/>"
   ]
  },
  {
   "cell_type": "markdown",
   "id": "a8e7c697-2f1b-4b1e-8514-06061930a35a",
   "metadata": {},
   "source": [
    "# Pandas\n",
    "Pandas es una biblioteca que proporciona estructuras de datos y herramientas de análisis de datos para Python. Las dos estructuras de datos principales de Pandas son Series y DataFrames."
   ]
  },
  {
   "cell_type": "code",
   "execution_count": 2,
   "id": "9ec8f59b-7804-4c04-aafa-51a8b3f6d319",
   "metadata": {},
   "outputs": [],
   "source": [
    "import pandas as pd"
   ]
  },
  {
   "cell_type": "code",
   "execution_count": 3,
   "id": "88e760ef-56c3-4a85-bfa9-1f6b849f0b7f",
   "metadata": {},
   "outputs": [
    {
     "data": {
      "text/plain": [
       "0    1\n",
       "1    3\n",
       "2    5\n",
       "3    7\n",
       "4    9\n",
       "dtype: int64"
      ]
     },
     "execution_count": 3,
     "metadata": {},
     "output_type": "execute_result"
    }
   ],
   "source": [
    "# Crear una serie\n",
    "serie = pd.Series([1, 3, 5, 7, 9])\n",
    "serie"
   ]
  },
  {
   "cell_type": "code",
   "execution_count": 4,
   "id": "0f6eb833-d42b-4dd8-90c4-541c2f9c3c52",
   "metadata": {},
   "outputs": [
    {
     "data": {
      "text/plain": [
       "a    10\n",
       "b    20\n",
       "c    30\n",
       "dtype: int64"
      ]
     },
     "execution_count": 4,
     "metadata": {},
     "output_type": "execute_result"
    }
   ],
   "source": [
    "# Serie con etiquetas\n",
    "serie_etiquetada = pd.Series([10, 20, 30], index=['a', 'b', 'c'])\n",
    "serie_etiquetada"
   ]
  },
  {
   "cell_type": "code",
   "execution_count": 5,
   "id": "89d8bfba-edc1-4080-a04f-ef7023bc3560",
   "metadata": {},
   "outputs": [
    {
     "data": {
      "text/plain": [
       "np.int64(1)"
      ]
     },
     "execution_count": 5,
     "metadata": {},
     "output_type": "execute_result"
    }
   ],
   "source": [
    "# Acceso por índice\n",
    "serie[0]"
   ]
  },
  {
   "cell_type": "code",
   "execution_count": 6,
   "id": "1d12ca76-6e33-4d2f-9a1c-90a54f3983f6",
   "metadata": {},
   "outputs": [
    {
     "data": {
      "text/plain": [
       "np.int64(20)"
      ]
     },
     "execution_count": 6,
     "metadata": {},
     "output_type": "execute_result"
    }
   ],
   "source": [
    "# Acceso por etiqueta\n",
    "serie_etiquetada['b']"
   ]
  },
  {
   "cell_type": "code",
   "execution_count": 7,
   "id": "d5291943-f952-4b29-b3d7-2abb0a6f0c42",
   "metadata": {},
   "outputs": [],
   "source": [
    "import numpy as np"
   ]
  },
  {
   "cell_type": "code",
   "execution_count": 8,
   "id": "35b1baa4-164b-4e0c-b16d-c5ea804f7ab3",
   "metadata": {},
   "outputs": [
    {
     "data": {
      "text/html": [
       "<div>\n",
       "<style scoped>\n",
       "    .dataframe tbody tr th:only-of-type {\n",
       "        vertical-align: middle;\n",
       "    }\n",
       "\n",
       "    .dataframe tbody tr th {\n",
       "        vertical-align: top;\n",
       "    }\n",
       "\n",
       "    .dataframe thead th {\n",
       "        text-align: right;\n",
       "    }\n",
       "</style>\n",
       "<table border=\"1\" class=\"dataframe\">\n",
       "  <thead>\n",
       "    <tr style=\"text-align: right;\">\n",
       "      <th></th>\n",
       "      <th>Nombre</th>\n",
       "      <th>Edad</th>\n",
       "      <th>Ciudad</th>\n",
       "    </tr>\n",
       "  </thead>\n",
       "  <tbody>\n",
       "    <tr>\n",
       "      <th>0</th>\n",
       "      <td>Juan</td>\n",
       "      <td>28</td>\n",
       "      <td>Bogotá</td>\n",
       "    </tr>\n",
       "    <tr>\n",
       "      <th>1</th>\n",
       "      <td>Ana</td>\n",
       "      <td>34</td>\n",
       "      <td>Medellín</td>\n",
       "    </tr>\n",
       "    <tr>\n",
       "      <th>2</th>\n",
       "      <td>Pedro</td>\n",
       "      <td>29</td>\n",
       "      <td>Cali</td>\n",
       "    </tr>\n",
       "    <tr>\n",
       "      <th>3</th>\n",
       "      <td>María</td>\n",
       "      <td>42</td>\n",
       "      <td>Cartagena</td>\n",
       "    </tr>\n",
       "  </tbody>\n",
       "</table>\n",
       "</div>"
      ],
      "text/plain": [
       "  Nombre  Edad     Ciudad\n",
       "0   Juan    28     Bogotá\n",
       "1    Ana    34   Medellín\n",
       "2  Pedro    29       Cali\n",
       "3  María    42  Cartagena"
      ]
     },
     "execution_count": 8,
     "metadata": {},
     "output_type": "execute_result"
    }
   ],
   "source": [
    "# Crear un DataFrame desde un diccionario\n",
    "datos = {\n",
    "    'Nombre': ['Juan', 'Ana', 'Pedro', 'María'],\n",
    "    'Edad': [28, 34, 29, 42],\n",
    "    'Ciudad': ['Bogotá', 'Medellín', 'Cali', 'Cartagena']\n",
    "}\n",
    "df = pd.DataFrame(datos)\n",
    "df"
   ]
  },
  {
   "cell_type": "code",
   "execution_count": 9,
   "id": "a4fba55d-ff33-45d5-ad1a-00699f8e5f4f",
   "metadata": {},
   "outputs": [],
   "source": [
    "# Crear un DataFrame desde un array\n",
    "array_datos = np.array([\n",
    "    [1, 2, 3],\n",
    "    [4, 5, 6]\n",
    "])\n",
    "df_array = pd.DataFrame(array_datos, columns=['A', 'B', 'C'])\n",
    "#df_array.to_excel('datos.xlsx', index=False)\n",
    "#df_array.to_csv('datos.csv', index=False)\n",
    "#df_array.to_parquet(\"data.parquet\", index=False)"
   ]
  },
  {
   "cell_type": "code",
   "execution_count": 10,
   "id": "665d707a-ad07-4264-a97b-16100750c1d8",
   "metadata": {},
   "outputs": [
    {
     "name": "stdout",
     "output_type": "stream",
     "text": [
      "(4, 3)\n",
      "12\n",
      "Index(['Nombre', 'Edad', 'Ciudad'], dtype='object')\n",
      "RangeIndex(start=0, stop=4, step=1)\n"
     ]
    }
   ],
   "source": [
    "# Propiedades del DataFrame\n",
    "print(df.shape)   # Dimensiones\n",
    "print(df.size)    # Número total de elementos\n",
    "print(df.columns) # Nombres de las columnas\n",
    "print(df.index)   # Índices"
   ]
  },
  {
   "cell_type": "code",
   "execution_count": 11,
   "id": "55bad7c7-7f0d-4ea3-940d-23fa0e9085fc",
   "metadata": {},
   "outputs": [
    {
     "data": {
      "text/plain": [
       "0     Juan\n",
       "1      Ana\n",
       "2    Pedro\n",
       "3    María\n",
       "Name: Nombre, dtype: object"
      ]
     },
     "execution_count": 11,
     "metadata": {},
     "output_type": "execute_result"
    }
   ],
   "source": [
    "# Selección de una columna\n",
    "df['Nombre']"
   ]
  },
  {
   "cell_type": "code",
   "execution_count": 12,
   "id": "f689e9c8-c211-4956-81ed-0b012fe4edb9",
   "metadata": {},
   "outputs": [
    {
     "data": {
      "text/html": [
       "<div>\n",
       "<style scoped>\n",
       "    .dataframe tbody tr th:only-of-type {\n",
       "        vertical-align: middle;\n",
       "    }\n",
       "\n",
       "    .dataframe tbody tr th {\n",
       "        vertical-align: top;\n",
       "    }\n",
       "\n",
       "    .dataframe thead th {\n",
       "        text-align: right;\n",
       "    }\n",
       "</style>\n",
       "<table border=\"1\" class=\"dataframe\">\n",
       "  <thead>\n",
       "    <tr style=\"text-align: right;\">\n",
       "      <th></th>\n",
       "      <th>Nombre</th>\n",
       "      <th>Edad</th>\n",
       "    </tr>\n",
       "  </thead>\n",
       "  <tbody>\n",
       "    <tr>\n",
       "      <th>0</th>\n",
       "      <td>Juan</td>\n",
       "      <td>28</td>\n",
       "    </tr>\n",
       "    <tr>\n",
       "      <th>1</th>\n",
       "      <td>Ana</td>\n",
       "      <td>34</td>\n",
       "    </tr>\n",
       "    <tr>\n",
       "      <th>2</th>\n",
       "      <td>Pedro</td>\n",
       "      <td>29</td>\n",
       "    </tr>\n",
       "    <tr>\n",
       "      <th>3</th>\n",
       "      <td>María</td>\n",
       "      <td>42</td>\n",
       "    </tr>\n",
       "  </tbody>\n",
       "</table>\n",
       "</div>"
      ],
      "text/plain": [
       "  Nombre  Edad\n",
       "0   Juan    28\n",
       "1    Ana    34\n",
       "2  Pedro    29\n",
       "3  María    42"
      ]
     },
     "execution_count": 12,
     "metadata": {},
     "output_type": "execute_result"
    }
   ],
   "source": [
    "# Selección de varias columnas\n",
    "df[['Nombre', 'Edad']]"
   ]
  },
  {
   "cell_type": "code",
   "execution_count": 13,
   "id": "0ea6bc8b-19fd-4cdb-9cb0-69242e9b7584",
   "metadata": {},
   "outputs": [
    {
     "data": {
      "text/plain": [
       "Nombre      Juan\n",
       "Edad          28\n",
       "Ciudad    Bogotá\n",
       "Name: 0, dtype: object"
      ]
     },
     "execution_count": 13,
     "metadata": {},
     "output_type": "execute_result"
    }
   ],
   "source": [
    "# Selección de filas por índice\n",
    "df.iloc[0]   # Primera fila"
   ]
  },
  {
   "cell_type": "code",
   "execution_count": 14,
   "id": "33d3bf5d-7d8a-459c-b422-2fe4f5ed8565",
   "metadata": {},
   "outputs": [
    {
     "data": {
      "text/html": [
       "<div>\n",
       "<style scoped>\n",
       "    .dataframe tbody tr th:only-of-type {\n",
       "        vertical-align: middle;\n",
       "    }\n",
       "\n",
       "    .dataframe tbody tr th {\n",
       "        vertical-align: top;\n",
       "    }\n",
       "\n",
       "    .dataframe thead th {\n",
       "        text-align: right;\n",
       "    }\n",
       "</style>\n",
       "<table border=\"1\" class=\"dataframe\">\n",
       "  <thead>\n",
       "    <tr style=\"text-align: right;\">\n",
       "      <th></th>\n",
       "      <th>Nombre</th>\n",
       "      <th>Edad</th>\n",
       "      <th>Ciudad</th>\n",
       "    </tr>\n",
       "  </thead>\n",
       "  <tbody>\n",
       "    <tr>\n",
       "      <th>1</th>\n",
       "      <td>Ana</td>\n",
       "      <td>34</td>\n",
       "      <td>Medellín</td>\n",
       "    </tr>\n",
       "    <tr>\n",
       "      <th>2</th>\n",
       "      <td>Pedro</td>\n",
       "      <td>29</td>\n",
       "      <td>Cali</td>\n",
       "    </tr>\n",
       "  </tbody>\n",
       "</table>\n",
       "</div>"
      ],
      "text/plain": [
       "  Nombre  Edad    Ciudad\n",
       "1    Ana    34  Medellín\n",
       "2  Pedro    29      Cali"
      ]
     },
     "execution_count": 14,
     "metadata": {},
     "output_type": "execute_result"
    }
   ],
   "source": [
    "# Selección de filas por índice\n",
    "df.iloc[1:3] # Filas desde el índice 1 hasta el 2"
   ]
  },
  {
   "cell_type": "code",
   "execution_count": 15,
   "id": "a38c7720-4afb-467d-8d2a-ecbdc763c5d3",
   "metadata": {},
   "outputs": [
    {
     "data": {
      "text/plain": [
       "Nombre      Juan\n",
       "Edad          28\n",
       "Ciudad    Bogotá\n",
       "Name: 0, dtype: object"
      ]
     },
     "execution_count": 15,
     "metadata": {},
     "output_type": "execute_result"
    }
   ],
   "source": [
    "# Selección de filas por etiqueta\n",
    "df.loc[0]   # Primera fila, si el índice es numérico"
   ]
  },
  {
   "cell_type": "code",
   "execution_count": 16,
   "id": "b36b9a91-2592-4607-b332-bcb38083f4ef",
   "metadata": {},
   "outputs": [
    {
     "data": {
      "text/html": [
       "<div>\n",
       "<style scoped>\n",
       "    .dataframe tbody tr th:only-of-type {\n",
       "        vertical-align: middle;\n",
       "    }\n",
       "\n",
       "    .dataframe tbody tr th {\n",
       "        vertical-align: top;\n",
       "    }\n",
       "\n",
       "    .dataframe thead th {\n",
       "        text-align: right;\n",
       "    }\n",
       "</style>\n",
       "<table border=\"1\" class=\"dataframe\">\n",
       "  <thead>\n",
       "    <tr style=\"text-align: right;\">\n",
       "      <th></th>\n",
       "      <th>Nombre</th>\n",
       "      <th>Edad</th>\n",
       "      <th>Ciudad</th>\n",
       "    </tr>\n",
       "  </thead>\n",
       "  <tbody>\n",
       "    <tr>\n",
       "      <th>1</th>\n",
       "      <td>Ana</td>\n",
       "      <td>34</td>\n",
       "      <td>Medellín</td>\n",
       "    </tr>\n",
       "    <tr>\n",
       "      <th>2</th>\n",
       "      <td>Pedro</td>\n",
       "      <td>29</td>\n",
       "      <td>Cali</td>\n",
       "    </tr>\n",
       "    <tr>\n",
       "      <th>3</th>\n",
       "      <td>María</td>\n",
       "      <td>42</td>\n",
       "      <td>Cartagena</td>\n",
       "    </tr>\n",
       "  </tbody>\n",
       "</table>\n",
       "</div>"
      ],
      "text/plain": [
       "  Nombre  Edad     Ciudad\n",
       "1    Ana    34   Medellín\n",
       "2  Pedro    29       Cali\n",
       "3  María    42  Cartagena"
      ]
     },
     "execution_count": 16,
     "metadata": {},
     "output_type": "execute_result"
    }
   ],
   "source": [
    "# Selección de filas por etiqueta\n",
    "df.loc[1:3] # Filas desde el índice 1 hasta el 3"
   ]
  },
  {
   "cell_type": "code",
   "execution_count": 17,
   "id": "b4995f0d-ce0f-4172-87fe-9c0fd53155d4",
   "metadata": {},
   "outputs": [
    {
     "data": {
      "text/html": [
       "<div>\n",
       "<style scoped>\n",
       "    .dataframe tbody tr th:only-of-type {\n",
       "        vertical-align: middle;\n",
       "    }\n",
       "\n",
       "    .dataframe tbody tr th {\n",
       "        vertical-align: top;\n",
       "    }\n",
       "\n",
       "    .dataframe thead th {\n",
       "        text-align: right;\n",
       "    }\n",
       "</style>\n",
       "<table border=\"1\" class=\"dataframe\">\n",
       "  <thead>\n",
       "    <tr style=\"text-align: right;\">\n",
       "      <th></th>\n",
       "      <th>Nombre</th>\n",
       "      <th>Edad</th>\n",
       "      <th>Ciudad</th>\n",
       "    </tr>\n",
       "  </thead>\n",
       "  <tbody>\n",
       "    <tr>\n",
       "      <th>1</th>\n",
       "      <td>Ana</td>\n",
       "      <td>34</td>\n",
       "      <td>Medellín</td>\n",
       "    </tr>\n",
       "    <tr>\n",
       "      <th>3</th>\n",
       "      <td>María</td>\n",
       "      <td>42</td>\n",
       "      <td>Cartagena</td>\n",
       "    </tr>\n",
       "  </tbody>\n",
       "</table>\n",
       "</div>"
      ],
      "text/plain": [
       "  Nombre  Edad     Ciudad\n",
       "1    Ana    34   Medellín\n",
       "3  María    42  Cartagena"
      ]
     },
     "execution_count": 17,
     "metadata": {},
     "output_type": "execute_result"
    }
   ],
   "source": [
    "# Filtrar filas basadas en condiciones\n",
    "df[df['Edad'] > 30]"
   ]
  },
  {
   "cell_type": "code",
   "execution_count": 18,
   "id": "755bd1ab-77ef-466e-850e-29a1cae17e30",
   "metadata": {},
   "outputs": [
    {
     "data": {
      "text/html": [
       "<div>\n",
       "<style scoped>\n",
       "    .dataframe tbody tr th:only-of-type {\n",
       "        vertical-align: middle;\n",
       "    }\n",
       "\n",
       "    .dataframe tbody tr th {\n",
       "        vertical-align: top;\n",
       "    }\n",
       "\n",
       "    .dataframe thead th {\n",
       "        text-align: right;\n",
       "    }\n",
       "</style>\n",
       "<table border=\"1\" class=\"dataframe\">\n",
       "  <thead>\n",
       "    <tr style=\"text-align: right;\">\n",
       "      <th></th>\n",
       "      <th>Nombre</th>\n",
       "      <th>Edad</th>\n",
       "      <th>Ciudad</th>\n",
       "    </tr>\n",
       "  </thead>\n",
       "  <tbody>\n",
       "    <tr>\n",
       "      <th>0</th>\n",
       "      <td>Juan</td>\n",
       "      <td>28</td>\n",
       "      <td>Bogotá</td>\n",
       "    </tr>\n",
       "  </tbody>\n",
       "</table>\n",
       "</div>"
      ],
      "text/plain": [
       "  Nombre  Edad  Ciudad\n",
       "0   Juan    28  Bogotá"
      ]
     },
     "execution_count": 18,
     "metadata": {},
     "output_type": "execute_result"
    }
   ],
   "source": [
    "df[     df['Ciudad'] == 'Bogotá'      ]"
   ]
  },
  {
   "cell_type": "code",
   "execution_count": 19,
   "id": "cf0528b2-0ce2-45a1-aa9f-6d949ebebd19",
   "metadata": {},
   "outputs": [
    {
     "data": {
      "text/plain": [
       "np.int64(133)"
      ]
     },
     "execution_count": 19,
     "metadata": {},
     "output_type": "execute_result"
    }
   ],
   "source": [
    "# Sumar una columna\n",
    "df['Edad'].sum()"
   ]
  },
  {
   "cell_type": "code",
   "execution_count": 20,
   "id": "07d8e7f1-270a-4ab7-a3c7-ca436e9a82a3",
   "metadata": {},
   "outputs": [
    {
     "data": {
      "text/plain": [
       "np.float64(33.25)"
      ]
     },
     "execution_count": 20,
     "metadata": {},
     "output_type": "execute_result"
    }
   ],
   "source": [
    "# Promedio de una columna\n",
    "df['Edad'].mean()"
   ]
  },
  {
   "cell_type": "code",
   "execution_count": 21,
   "id": "356f80cb-118a-445a-b10a-09f553caadba",
   "metadata": {},
   "outputs": [
    {
     "data": {
      "text/html": [
       "<div>\n",
       "<style scoped>\n",
       "    .dataframe tbody tr th:only-of-type {\n",
       "        vertical-align: middle;\n",
       "    }\n",
       "\n",
       "    .dataframe tbody tr th {\n",
       "        vertical-align: top;\n",
       "    }\n",
       "\n",
       "    .dataframe thead th {\n",
       "        text-align: right;\n",
       "    }\n",
       "</style>\n",
       "<table border=\"1\" class=\"dataframe\">\n",
       "  <thead>\n",
       "    <tr style=\"text-align: right;\">\n",
       "      <th></th>\n",
       "      <th>Nombre</th>\n",
       "      <th>Edad</th>\n",
       "      <th>Ciudad</th>\n",
       "      <th>Salario</th>\n",
       "    </tr>\n",
       "  </thead>\n",
       "  <tbody>\n",
       "    <tr>\n",
       "      <th>0</th>\n",
       "      <td>Juan</td>\n",
       "      <td>28</td>\n",
       "      <td>Bogotá</td>\n",
       "      <td>3000</td>\n",
       "    </tr>\n",
       "    <tr>\n",
       "      <th>1</th>\n",
       "      <td>Ana</td>\n",
       "      <td>34</td>\n",
       "      <td>Medellín</td>\n",
       "      <td>3500</td>\n",
       "    </tr>\n",
       "    <tr>\n",
       "      <th>2</th>\n",
       "      <td>Pedro</td>\n",
       "      <td>29</td>\n",
       "      <td>Cali</td>\n",
       "      <td>2500</td>\n",
       "    </tr>\n",
       "    <tr>\n",
       "      <th>3</th>\n",
       "      <td>María</td>\n",
       "      <td>42</td>\n",
       "      <td>Cartagena</td>\n",
       "      <td>4000</td>\n",
       "    </tr>\n",
       "  </tbody>\n",
       "</table>\n",
       "</div>"
      ],
      "text/plain": [
       "  Nombre  Edad     Ciudad  Salario\n",
       "0   Juan    28     Bogotá     3000\n",
       "1    Ana    34   Medellín     3500\n",
       "2  Pedro    29       Cali     2500\n",
       "3  María    42  Cartagena     4000"
      ]
     },
     "execution_count": 21,
     "metadata": {},
     "output_type": "execute_result"
    }
   ],
   "source": [
    "# Agregar una nueva columna\n",
    "df['Salario'] = [3000, 3500, 2500, 4000]\n",
    "df"
   ]
  },
  {
   "cell_type": "code",
   "execution_count": 22,
   "id": "27bb8c0b-b352-4b19-b800-ded90724122a",
   "metadata": {},
   "outputs": [
    {
     "data": {
      "text/html": [
       "<div>\n",
       "<style scoped>\n",
       "    .dataframe tbody tr th:only-of-type {\n",
       "        vertical-align: middle;\n",
       "    }\n",
       "\n",
       "    .dataframe tbody tr th {\n",
       "        vertical-align: top;\n",
       "    }\n",
       "\n",
       "    .dataframe thead th {\n",
       "        text-align: right;\n",
       "    }\n",
       "</style>\n",
       "<table border=\"1\" class=\"dataframe\">\n",
       "  <thead>\n",
       "    <tr style=\"text-align: right;\">\n",
       "      <th></th>\n",
       "      <th>Nombre</th>\n",
       "      <th>Edad</th>\n",
       "      <th>Ciudad</th>\n",
       "      <th>Salario</th>\n",
       "    </tr>\n",
       "  </thead>\n",
       "  <tbody>\n",
       "    <tr>\n",
       "      <th>0</th>\n",
       "      <td>Juan</td>\n",
       "      <td>28</td>\n",
       "      <td>Bogotá</td>\n",
       "      <td>3000</td>\n",
       "    </tr>\n",
       "    <tr>\n",
       "      <th>1</th>\n",
       "      <td>Ana</td>\n",
       "      <td>34</td>\n",
       "      <td>Medellín</td>\n",
       "      <td>3500</td>\n",
       "    </tr>\n",
       "    <tr>\n",
       "      <th>2</th>\n",
       "      <td>Pedro</td>\n",
       "      <td>29</td>\n",
       "      <td>Cali</td>\n",
       "      <td>2500</td>\n",
       "    </tr>\n",
       "    <tr>\n",
       "      <th>3</th>\n",
       "      <td>María</td>\n",
       "      <td>42</td>\n",
       "      <td>Cartagena</td>\n",
       "      <td>4000</td>\n",
       "    </tr>\n",
       "  </tbody>\n",
       "</table>\n",
       "</div>"
      ],
      "text/plain": [
       "  Nombre  Edad     Ciudad  Salario\n",
       "0   Juan    28     Bogotá     3000\n",
       "1    Ana    34   Medellín     3500\n",
       "2  Pedro    29       Cali     2500\n",
       "3  María    42  Cartagena     4000"
      ]
     },
     "execution_count": 22,
     "metadata": {},
     "output_type": "execute_result"
    }
   ],
   "source": [
    "# Eliminar una columna\n",
    "#df = df.drop(columns=['Salario'])\n",
    "df"
   ]
  },
  {
   "cell_type": "code",
   "execution_count": 23,
   "id": "45c372aa-81b5-4d68-adb6-869fbd1e58a3",
   "metadata": {},
   "outputs": [],
   "source": [
    "# Leer un archivo CSV\n",
    "df_csv = pd.read_csv('database/contactos.txt')"
   ]
  },
  {
   "cell_type": "code",
   "execution_count": 24,
   "id": "e4d73fcd",
   "metadata": {},
   "outputs": [
    {
     "data": {
      "text/plain": [
       "Nombre      object\n",
       "Apellido    object\n",
       "Correo      object\n",
       "Telefono     int64\n",
       "Ciudad      object\n",
       "dtype: object"
      ]
     },
     "execution_count": 24,
     "metadata": {},
     "output_type": "execute_result"
    }
   ],
   "source": [
    "df_csv.dtypes"
   ]
  },
  {
   "cell_type": "code",
   "execution_count": 25,
   "id": "05e97273-4b71-43da-a813-9e64439b2784",
   "metadata": {},
   "outputs": [
    {
     "data": {
      "text/html": [
       "<div>\n",
       "<style scoped>\n",
       "    .dataframe tbody tr th:only-of-type {\n",
       "        vertical-align: middle;\n",
       "    }\n",
       "\n",
       "    .dataframe tbody tr th {\n",
       "        vertical-align: top;\n",
       "    }\n",
       "\n",
       "    .dataframe thead th {\n",
       "        text-align: right;\n",
       "    }\n",
       "</style>\n",
       "<table border=\"1\" class=\"dataframe\">\n",
       "  <thead>\n",
       "    <tr style=\"text-align: right;\">\n",
       "      <th></th>\n",
       "      <th>Nombre</th>\n",
       "      <th>Apellido</th>\n",
       "      <th>Correo</th>\n",
       "      <th>Telefono</th>\n",
       "      <th>Ciudad</th>\n",
       "    </tr>\n",
       "  </thead>\n",
       "  <tbody>\n",
       "    <tr>\n",
       "      <th>0</th>\n",
       "      <td>Sofía</td>\n",
       "      <td>Ruiz</td>\n",
       "      <td>sofía.ruiz@gmail.com</td>\n",
       "      <td>3062852055</td>\n",
       "      <td>Medellín</td>\n",
       "    </tr>\n",
       "    <tr>\n",
       "      <th>1</th>\n",
       "      <td>Pedro</td>\n",
       "      <td>Rodríguez</td>\n",
       "      <td>pedro.rodríguez@yahoo.com</td>\n",
       "      <td>3030542678</td>\n",
       "      <td>Cúcuta</td>\n",
       "    </tr>\n",
       "    <tr>\n",
       "      <th>2</th>\n",
       "      <td>Pedro</td>\n",
       "      <td>Ruiz</td>\n",
       "      <td>pedro.ruiz@utb.edu.co</td>\n",
       "      <td>3066583181</td>\n",
       "      <td>Cartagena</td>\n",
       "    </tr>\n",
       "    <tr>\n",
       "      <th>3</th>\n",
       "      <td>María</td>\n",
       "      <td>Ruiz</td>\n",
       "      <td>maría.ruiz@hotmail.com</td>\n",
       "      <td>3112139650</td>\n",
       "      <td>Cúcuta</td>\n",
       "    </tr>\n",
       "    <tr>\n",
       "      <th>4</th>\n",
       "      <td>Luis</td>\n",
       "      <td>Torres</td>\n",
       "      <td>luis.torres@gmail.com</td>\n",
       "      <td>3071380359</td>\n",
       "      <td>Barranquilla</td>\n",
       "    </tr>\n",
       "    <tr>\n",
       "      <th>...</th>\n",
       "      <td>...</td>\n",
       "      <td>...</td>\n",
       "      <td>...</td>\n",
       "      <td>...</td>\n",
       "      <td>...</td>\n",
       "    </tr>\n",
       "    <tr>\n",
       "      <th>10102</th>\n",
       "      <td>Carlos</td>\n",
       "      <td>Gómez</td>\n",
       "      <td>carlos.gómez@utb.edu.co</td>\n",
       "      <td>3014273412</td>\n",
       "      <td>Medellín</td>\n",
       "    </tr>\n",
       "    <tr>\n",
       "      <th>10103</th>\n",
       "      <td>Sofía</td>\n",
       "      <td>Ramírez</td>\n",
       "      <td>sofía.ramírez@hotmail.com</td>\n",
       "      <td>3162803434</td>\n",
       "      <td>Barranquilla</td>\n",
       "    </tr>\n",
       "    <tr>\n",
       "      <th>10104</th>\n",
       "      <td>Laura</td>\n",
       "      <td>Sánchez</td>\n",
       "      <td>laura.sánchez@utb.edu.co</td>\n",
       "      <td>3161155803</td>\n",
       "      <td>Pereira</td>\n",
       "    </tr>\n",
       "    <tr>\n",
       "      <th>10105</th>\n",
       "      <td>Laura</td>\n",
       "      <td>Sánchez</td>\n",
       "      <td>laura.sánchez@hotmail.com</td>\n",
       "      <td>3008665708</td>\n",
       "      <td>Medellín</td>\n",
       "    </tr>\n",
       "    <tr>\n",
       "      <th>10106</th>\n",
       "      <td>Sofía</td>\n",
       "      <td>Martínez</td>\n",
       "      <td>sofía.martínez@hotmail.com</td>\n",
       "      <td>3074907006</td>\n",
       "      <td>Manizales</td>\n",
       "    </tr>\n",
       "  </tbody>\n",
       "</table>\n",
       "<p>10107 rows × 5 columns</p>\n",
       "</div>"
      ],
      "text/plain": [
       "       Nombre   Apellido                      Correo    Telefono        Ciudad\n",
       "0       Sofía       Ruiz        sofía.ruiz@gmail.com  3062852055      Medellín\n",
       "1       Pedro  Rodríguez   pedro.rodríguez@yahoo.com  3030542678        Cúcuta\n",
       "2       Pedro       Ruiz       pedro.ruiz@utb.edu.co  3066583181     Cartagena\n",
       "3       María       Ruiz      maría.ruiz@hotmail.com  3112139650        Cúcuta\n",
       "4        Luis     Torres       luis.torres@gmail.com  3071380359  Barranquilla\n",
       "...       ...        ...                         ...         ...           ...\n",
       "10102  Carlos      Gómez     carlos.gómez@utb.edu.co  3014273412      Medellín\n",
       "10103   Sofía    Ramírez   sofía.ramírez@hotmail.com  3162803434  Barranquilla\n",
       "10104   Laura    Sánchez    laura.sánchez@utb.edu.co  3161155803       Pereira\n",
       "10105   Laura    Sánchez   laura.sánchez@hotmail.com  3008665708      Medellín\n",
       "10106   Sofía   Martínez  sofía.martínez@hotmail.com  3074907006     Manizales\n",
       "\n",
       "[10107 rows x 5 columns]"
      ]
     },
     "execution_count": 25,
     "metadata": {},
     "output_type": "execute_result"
    }
   ],
   "source": [
    "df_csv"
   ]
  },
  {
   "cell_type": "code",
   "execution_count": 26,
   "id": "09c9be5c-2cbe-4c0d-8328-2b3e33dbc022",
   "metadata": {},
   "outputs": [
    {
     "data": {
      "text/html": [
       "<div>\n",
       "<style scoped>\n",
       "    .dataframe tbody tr th:only-of-type {\n",
       "        vertical-align: middle;\n",
       "    }\n",
       "\n",
       "    .dataframe tbody tr th {\n",
       "        vertical-align: top;\n",
       "    }\n",
       "\n",
       "    .dataframe thead th {\n",
       "        text-align: right;\n",
       "    }\n",
       "</style>\n",
       "<table border=\"1\" class=\"dataframe\">\n",
       "  <thead>\n",
       "    <tr style=\"text-align: right;\">\n",
       "      <th></th>\n",
       "      <th>Telefono</th>\n",
       "    </tr>\n",
       "  </thead>\n",
       "  <tbody>\n",
       "    <tr>\n",
       "      <th>count</th>\n",
       "      <td>1.010700e+04</td>\n",
       "    </tr>\n",
       "    <tr>\n",
       "      <th>mean</th>\n",
       "      <td>3.233931e+09</td>\n",
       "    </tr>\n",
       "    <tr>\n",
       "      <th>std</th>\n",
       "      <td>9.458515e+09</td>\n",
       "    </tr>\n",
       "    <tr>\n",
       "      <th>min</th>\n",
       "      <td>3.003345e+08</td>\n",
       "    </tr>\n",
       "    <tr>\n",
       "      <th>25%</th>\n",
       "      <td>3.049314e+09</td>\n",
       "    </tr>\n",
       "    <tr>\n",
       "      <th>50%</th>\n",
       "      <td>3.098556e+09</td>\n",
       "    </tr>\n",
       "    <tr>\n",
       "      <th>75%</th>\n",
       "      <td>3.148408e+09</td>\n",
       "    </tr>\n",
       "    <tr>\n",
       "      <th>max</th>\n",
       "      <td>8.972636e+11</td>\n",
       "    </tr>\n",
       "  </tbody>\n",
       "</table>\n",
       "</div>"
      ],
      "text/plain": [
       "           Telefono\n",
       "count  1.010700e+04\n",
       "mean   3.233931e+09\n",
       "std    9.458515e+09\n",
       "min    3.003345e+08\n",
       "25%    3.049314e+09\n",
       "50%    3.098556e+09\n",
       "75%    3.148408e+09\n",
       "max    8.972636e+11"
      ]
     },
     "execution_count": 26,
     "metadata": {},
     "output_type": "execute_result"
    }
   ],
   "source": [
    "# Aplicar varias funciones de agregación\n",
    "df_csv.describe()"
   ]
  },
  {
   "cell_type": "markdown",
   "id": "0fd551ac-5b95-48cc-b34e-a07c4d546e2a",
   "metadata": {},
   "source": [
    "## Asignar Tipos de Datos al Cargar un Archivo CSV"
   ]
  },
  {
   "cell_type": "code",
   "execution_count": 27,
   "id": "1652b2b5-87eb-4c99-9dba-1c1b921a5ec5",
   "metadata": {},
   "outputs": [],
   "source": [
    "df = pd.read_csv('database/contactos.txt', dtype={\n",
    "    \"Nombre\": \"string\",\n",
    "    \"Apellido\": \"string\",\n",
    "    \"Correo\": \"string\",\n",
    "    \"Telefono\": \"string\",\n",
    "    \"Ciudad\": \"string\"\n",
    "})"
   ]
  },
  {
   "cell_type": "code",
   "execution_count": 28,
   "id": "349ade7e-ff64-4315-a66d-601d5402c50f",
   "metadata": {},
   "outputs": [
    {
     "data": {
      "text/plain": [
       "Nombre      string[python]\n",
       "Apellido    string[python]\n",
       "Correo      string[python]\n",
       "Telefono    string[python]\n",
       "Ciudad      string[python]\n",
       "dtype: object"
      ]
     },
     "execution_count": 28,
     "metadata": {},
     "output_type": "execute_result"
    }
   ],
   "source": [
    "df.dtypes"
   ]
  },
  {
   "cell_type": "code",
   "execution_count": 29,
   "id": "dc3acdbc",
   "metadata": {},
   "outputs": [
    {
     "data": {
      "text/plain": [
       "10107"
      ]
     },
     "execution_count": 29,
     "metadata": {},
     "output_type": "execute_result"
    }
   ],
   "source": [
    "len(df)"
   ]
  },
  {
   "cell_type": "code",
   "execution_count": 30,
   "id": "73b46cee",
   "metadata": {},
   "outputs": [
    {
     "data": {
      "text/plain": [
       "<StringArray>\n",
       "[    'Medellín',       'Cúcuta',    'Cartagena', 'Barranquilla',\n",
       "      'Pereira',       'Bogotá',  'Bucaramanga',    'Manizales',\n",
       "  'Santa Marta',         'Cali',      'Cartago']\n",
       "Length: 11, dtype: string"
      ]
     },
     "execution_count": 30,
     "metadata": {},
     "output_type": "execute_result"
    }
   ],
   "source": [
    "df[\"Ciudad\"].unique()"
   ]
  },
  {
   "cell_type": "code",
   "execution_count": 31,
   "id": "fb6ae2f9",
   "metadata": {},
   "outputs": [
    {
     "data": {
      "text/plain": [
       "Ciudad\n",
       "Barranquilla    1084\n",
       "Bucaramanga     1035\n",
       "Bogotá          1028\n",
       "Cartagena       1012\n",
       "Pereira         1011\n",
       "Medellín        1009\n",
       "Cali            1001\n",
       "Manizales        996\n",
       "Cúcuta           982\n",
       "Santa Marta      947\n",
       "Cartago            2\n",
       "Name: count, dtype: Int64"
      ]
     },
     "execution_count": 31,
     "metadata": {},
     "output_type": "execute_result"
    }
   ],
   "source": [
    "df[\"Ciudad\"].value_counts()"
   ]
  },
  {
   "cell_type": "code",
   "execution_count": 32,
   "id": "8752d5e0",
   "metadata": {},
   "outputs": [
    {
     "data": {
      "text/plain": [
       "Ciudad\n",
       "Barranquilla    1084\n",
       "Bucaramanga     1035\n",
       "Bogotá          1028\n",
       "Cartagena       1012\n",
       "Pereira         1011\n",
       "Name: count, dtype: Int64"
      ]
     },
     "execution_count": 32,
     "metadata": {},
     "output_type": "execute_result"
    }
   ],
   "source": [
    "df[\"Ciudad\"].value_counts().head(5)"
   ]
  },
  {
   "cell_type": "code",
   "execution_count": 33,
   "id": "2dcd15db",
   "metadata": {},
   "outputs": [
    {
     "data": {
      "text/plain": [
       "Nombre\n",
       "Sofía          1049\n",
       "Carlos         1047\n",
       "Laura          1034\n",
       "María          1027\n",
       "Andrés         1019\n",
       "Daniela        1008\n",
       "Pedro           997\n",
       "Camila          981\n",
       "Ana             976\n",
       "Luis            914\n",
       "Juan             17\n",
       "Andrea           16\n",
       "Javier           13\n",
       "Patricia          4\n",
       "Juan Camilo       2\n",
       "Juan Manuel       2\n",
       "Juana             1\n",
       "Name: count, dtype: Int64"
      ]
     },
     "execution_count": 33,
     "metadata": {},
     "output_type": "execute_result"
    }
   ],
   "source": [
    "df[\"Nombre\"].value_counts()"
   ]
  },
  {
   "cell_type": "code",
   "execution_count": 34,
   "id": "ab19db4e",
   "metadata": {},
   "outputs": [
    {
     "data": {
      "text/plain": [
       "Nombre\n",
       "Sofía     1049\n",
       "Carlos    1047\n",
       "Laura     1034\n",
       "María     1027\n",
       "Andrés    1019\n",
       "Name: count, dtype: Int64"
      ]
     },
     "execution_count": 34,
     "metadata": {},
     "output_type": "execute_result"
    }
   ],
   "source": [
    "df[\"Nombre\"].value_counts().head(5)"
   ]
  },
  {
   "cell_type": "code",
   "execution_count": 35,
   "id": "f9b802c0",
   "metadata": {},
   "outputs": [
    {
     "data": {
      "text/plain": [
       "Nombre\n",
       "Javier         13\n",
       "Patricia        4\n",
       "Juan Camilo     2\n",
       "Juan Manuel     2\n",
       "Juana           1\n",
       "Name: count, dtype: Int64"
      ]
     },
     "execution_count": 35,
     "metadata": {},
     "output_type": "execute_result"
    }
   ],
   "source": [
    "df[\"Nombre\"].value_counts().tail(5)"
   ]
  },
  {
   "cell_type": "code",
   "execution_count": 36,
   "id": "f0fc6c04",
   "metadata": {},
   "outputs": [
    {
     "data": {
      "text/plain": [
       "Correo\n",
       "hotmail.com    2583\n",
       "yahoo.com      2521\n",
       "utb.edu.co     2516\n",
       "gmail.com      2461\n",
       "outlook.com      23\n",
       "perez.com         3\n",
       "Name: count, dtype: int64"
      ]
     },
     "execution_count": 36,
     "metadata": {},
     "output_type": "execute_result"
    }
   ],
   "source": [
    "df[\"Correo\"].str.split(\"@\").str[1].value_counts()"
   ]
  },
  {
   "cell_type": "code",
   "execution_count": 37,
   "id": "281668dc",
   "metadata": {},
   "outputs": [
    {
     "data": {
      "text/plain": [
       "Correo\n",
       "hotmail.com    2583\n",
       "Name: count, dtype: int64"
      ]
     },
     "execution_count": 37,
     "metadata": {},
     "output_type": "execute_result"
    }
   ],
   "source": [
    "df[\"Correo\"].str.split(\"@\").str[1].value_counts().head(1)"
   ]
  },
  {
   "cell_type": "code",
   "execution_count": 38,
   "id": "0084df97",
   "metadata": {},
   "outputs": [
    {
     "data": {
      "text/plain": [
       "Ciudad        Nombre  Apellido   Correo                     Telefono  \n",
       "Barranquilla  Ana     Fernández  ana.fernández@gmail.com    3050438128    1\n",
       "                                                            3053677963    1\n",
       "                                 ana.fernández@hotmail.com  3080090652    1\n",
       "                                                            3092895312    1\n",
       "                                 ana.fernández@utb.edu.co   3122859243    1\n",
       "                                                                         ..\n",
       "Santa Marta   Sofía   Torres     sofía.torres@hotmail.com   3126462935    1\n",
       "                                                            3168389194    1\n",
       "                                 sofía.torres@utb.edu.co    3010348765    1\n",
       "                                                            3149489922    1\n",
       "                                 sofía.torres@yahoo.com     3127691156    1\n",
       "Name: count, Length: 10106, dtype: int64"
      ]
     },
     "execution_count": 38,
     "metadata": {},
     "output_type": "execute_result"
    }
   ],
   "source": [
    "df.groupby([\"Ciudad\"]).value_counts()"
   ]
  },
  {
   "cell_type": "code",
   "execution_count": 39,
   "id": "2e77adc9",
   "metadata": {
    "vscode": {
     "languageId": "ruby"
    }
   },
   "outputs": [
    {
     "data": {
      "text/html": [
       "<div>\n",
       "<style scoped>\n",
       "    .dataframe tbody tr th:only-of-type {\n",
       "        vertical-align: middle;\n",
       "    }\n",
       "\n",
       "    .dataframe tbody tr th {\n",
       "        vertical-align: top;\n",
       "    }\n",
       "\n",
       "    .dataframe thead th {\n",
       "        text-align: right;\n",
       "    }\n",
       "</style>\n",
       "<table border=\"1\" class=\"dataframe\">\n",
       "  <thead>\n",
       "    <tr style=\"text-align: right;\">\n",
       "      <th></th>\n",
       "      <th></th>\n",
       "      <th>Nombre</th>\n",
       "      <th>Apellido</th>\n",
       "      <th>Correo</th>\n",
       "      <th>Telefono</th>\n",
       "    </tr>\n",
       "    <tr>\n",
       "      <th>Ciudad</th>\n",
       "      <th></th>\n",
       "      <th></th>\n",
       "      <th></th>\n",
       "      <th></th>\n",
       "      <th></th>\n",
       "    </tr>\n",
       "  </thead>\n",
       "  <tbody>\n",
       "    <tr>\n",
       "      <th rowspan=\"5\" valign=\"top\">Barranquilla</th>\n",
       "      <th>0</th>\n",
       "      <td>Luis</td>\n",
       "      <td>Torres</td>\n",
       "      <td>luis.torres@gmail.com</td>\n",
       "      <td>3071380359</td>\n",
       "    </tr>\n",
       "    <tr>\n",
       "      <th>1</th>\n",
       "      <td>Javier</td>\n",
       "      <td>Ruiz</td>\n",
       "      <td>javier.ruiz@outlook.com</td>\n",
       "      <td>3093612216</td>\n",
       "    </tr>\n",
       "    <tr>\n",
       "      <th>2</th>\n",
       "      <td>Pedro</td>\n",
       "      <td>Díaz</td>\n",
       "      <td>pedro.díaz@gmail.com</td>\n",
       "      <td>3055123903</td>\n",
       "    </tr>\n",
       "    <tr>\n",
       "      <th>3</th>\n",
       "      <td>Sofía</td>\n",
       "      <td>García</td>\n",
       "      <td>sofía.garcía@yahoo.com</td>\n",
       "      <td>3034255485</td>\n",
       "    </tr>\n",
       "    <tr>\n",
       "      <th>4</th>\n",
       "      <td>Juan</td>\n",
       "      <td>Martínez</td>\n",
       "      <td>juan.martínez@outlook.com</td>\n",
       "      <td>3122077084</td>\n",
       "    </tr>\n",
       "    <tr>\n",
       "      <th>...</th>\n",
       "      <th>...</th>\n",
       "      <td>...</td>\n",
       "      <td>...</td>\n",
       "      <td>...</td>\n",
       "      <td>...</td>\n",
       "    </tr>\n",
       "    <tr>\n",
       "      <th rowspan=\"5\" valign=\"top\">Santa Marta</th>\n",
       "      <th>942</th>\n",
       "      <td>Pedro</td>\n",
       "      <td>Rodríguez</td>\n",
       "      <td>pedro.rodríguez@yahoo.com</td>\n",
       "      <td>3057920560</td>\n",
       "    </tr>\n",
       "    <tr>\n",
       "      <th>943</th>\n",
       "      <td>Ana</td>\n",
       "      <td>Ramírez</td>\n",
       "      <td>ana.ramírez@yahoo.com</td>\n",
       "      <td>3077225515</td>\n",
       "    </tr>\n",
       "    <tr>\n",
       "      <th>944</th>\n",
       "      <td>Ana</td>\n",
       "      <td>López</td>\n",
       "      <td>ana.lópez@gmail.com</td>\n",
       "      <td>3098555508</td>\n",
       "    </tr>\n",
       "    <tr>\n",
       "      <th>945</th>\n",
       "      <td>Sofía</td>\n",
       "      <td>Fernández</td>\n",
       "      <td>sofía.fernández@gmail.com</td>\n",
       "      <td>3150063488</td>\n",
       "    </tr>\n",
       "    <tr>\n",
       "      <th>946</th>\n",
       "      <td>María</td>\n",
       "      <td>Ruiz</td>\n",
       "      <td>maría.ruiz@yahoo.com</td>\n",
       "      <td>3059387064</td>\n",
       "    </tr>\n",
       "  </tbody>\n",
       "</table>\n",
       "<p>10107 rows × 4 columns</p>\n",
       "</div>"
      ],
      "text/plain": [
       "                  Nombre   Apellido                     Correo    Telefono\n",
       "Ciudad                                                                    \n",
       "Barranquilla 0      Luis     Torres      luis.torres@gmail.com  3071380359\n",
       "             1    Javier       Ruiz    javier.ruiz@outlook.com  3093612216\n",
       "             2     Pedro       Díaz       pedro.díaz@gmail.com  3055123903\n",
       "             3     Sofía     García     sofía.garcía@yahoo.com  3034255485\n",
       "             4      Juan   Martínez  juan.martínez@outlook.com  3122077084\n",
       "...                  ...        ...                        ...         ...\n",
       "Santa Marta  942   Pedro  Rodríguez  pedro.rodríguez@yahoo.com  3057920560\n",
       "             943     Ana    Ramírez      ana.ramírez@yahoo.com  3077225515\n",
       "             944     Ana      López        ana.lópez@gmail.com  3098555508\n",
       "             945   Sofía  Fernández  sofía.fernández@gmail.com  3150063488\n",
       "             946   María       Ruiz       maría.ruiz@yahoo.com  3059387064\n",
       "\n",
       "[10107 rows x 4 columns]"
      ]
     },
     "execution_count": 39,
     "metadata": {},
     "output_type": "execute_result"
    }
   ],
   "source": [
    "# Eliminar filas duplicadas basadas en Nombre y Apellido\n",
    "#df_unicos = df.drop_duplicates(subset=['Nombre', 'Apellido'])\n",
    "\n",
    "# Agrupar por ciudad y contar el número de registros únicos por ciudad\n",
    "grupo_ciudad = df.groupby(\"Ciudad\")[[\"Nombre\", \"Apellido\", \"Correo\", \"Telefono\"]].apply(lambda x: x.reset_index(drop=True))\n",
    "\n",
    "grupo_ciudad"
   ]
  },
  {
   "cell_type": "code",
   "execution_count": 42,
   "id": "8902bdde",
   "metadata": {
    "vscode": {
     "languageId": "ruby"
    }
   },
   "outputs": [
    {
     "data": {
      "text/plain": [
       "Correo\n",
       "andrés.lópez@hotmail.com     42\n",
       "pedro.gómez@hotmail.com      38\n",
       "daniela.lópez@hotmail.com    38\n",
       "laura.sánchez@utb.edu.co     38\n",
       "sofía.ramírez@utb.edu.co     37\n",
       "Name: count, dtype: Int64"
      ]
     },
     "execution_count": 42,
     "metadata": {},
     "output_type": "execute_result"
    }
   ],
   "source": [
    "df[\"Correo\"].value_counts().head(5)"
   ]
  },
  {
   "cell_type": "code",
   "execution_count": 43,
   "id": "55dd2d60",
   "metadata": {
    "vscode": {
     "languageId": "ruby"
    }
   },
   "outputs": [
    {
     "data": {
      "text/plain": [
       "Telefono\n",
       "231472398431    2\n",
       "3102146370      1\n",
       "3013301495      1\n",
       "3192693449      1\n",
       "3062852055      1\n",
       "Name: count, dtype: Int64"
      ]
     },
     "execution_count": 43,
     "metadata": {},
     "output_type": "execute_result"
    }
   ],
   "source": [
    "df[\"Telefono\"].value_counts().head(5)"
   ]
  },
  {
   "cell_type": "code",
   "execution_count": null,
   "id": "109d0c64",
   "metadata": {
    "vscode": {
     "languageId": "ruby"
    }
   },
   "outputs": [
    {
     "data": {
      "text/html": [
       "<div>\n",
       "<style scoped>\n",
       "    .dataframe tbody tr th:only-of-type {\n",
       "        vertical-align: middle;\n",
       "    }\n",
       "\n",
       "    .dataframe tbody tr th {\n",
       "        vertical-align: top;\n",
       "    }\n",
       "\n",
       "    .dataframe thead th {\n",
       "        text-align: right;\n",
       "    }\n",
       "</style>\n",
       "<table border=\"1\" class=\"dataframe\">\n",
       "  <thead>\n",
       "    <tr style=\"text-align: right;\">\n",
       "      <th></th>\n",
       "      <th>Nombre</th>\n",
       "      <th>Apellido</th>\n",
       "      <th>Correo</th>\n",
       "      <th>Telefono</th>\n",
       "      <th>Ciudad</th>\n",
       "    </tr>\n",
       "  </thead>\n",
       "  <tbody>\n",
       "    <tr>\n",
       "      <th>0</th>\n",
       "      <td>Sofía</td>\n",
       "      <td>Ruiz</td>\n",
       "      <td>sofía.ruiz@gmail.com</td>\n",
       "      <td>3062852055</td>\n",
       "      <td>Medellín</td>\n",
       "    </tr>\n",
       "    <tr>\n",
       "      <th>1</th>\n",
       "      <td>Pedro</td>\n",
       "      <td>Rodríguez</td>\n",
       "      <td>pedro.rodríguez@yahoo.com</td>\n",
       "      <td>3030542678</td>\n",
       "      <td>Cúcuta</td>\n",
       "    </tr>\n",
       "    <tr>\n",
       "      <th>2</th>\n",
       "      <td>Pedro</td>\n",
       "      <td>Ruiz</td>\n",
       "      <td>pedro.ruiz@utb.edu.co</td>\n",
       "      <td>3066583181</td>\n",
       "      <td>Cartagena</td>\n",
       "    </tr>\n",
       "    <tr>\n",
       "      <th>3</th>\n",
       "      <td>María</td>\n",
       "      <td>Ruiz</td>\n",
       "      <td>maría.ruiz@hotmail.com</td>\n",
       "      <td>3112139650</td>\n",
       "      <td>Cúcuta</td>\n",
       "    </tr>\n",
       "    <tr>\n",
       "      <th>4</th>\n",
       "      <td>Luis</td>\n",
       "      <td>Torres</td>\n",
       "      <td>luis.torres@gmail.com</td>\n",
       "      <td>3071380359</td>\n",
       "      <td>Barranquilla</td>\n",
       "    </tr>\n",
       "    <tr>\n",
       "      <th>...</th>\n",
       "      <td>...</td>\n",
       "      <td>...</td>\n",
       "      <td>...</td>\n",
       "      <td>...</td>\n",
       "      <td>...</td>\n",
       "    </tr>\n",
       "    <tr>\n",
       "      <th>1899</th>\n",
       "      <td>Luis</td>\n",
       "      <td>Ramírez</td>\n",
       "      <td>luis.ramírez@gmail.com</td>\n",
       "      <td>3191749495</td>\n",
       "      <td>Pereira</td>\n",
       "    </tr>\n",
       "    <tr>\n",
       "      <th>1977</th>\n",
       "      <td>Carlos</td>\n",
       "      <td>Torres</td>\n",
       "      <td>carlos.torres@gmail.com</td>\n",
       "      <td>3025273159</td>\n",
       "      <td>Cartagena</td>\n",
       "    </tr>\n",
       "    <tr>\n",
       "      <th>2037</th>\n",
       "      <td>Andrés</td>\n",
       "      <td>Fernández</td>\n",
       "      <td>andrés.fernández@gmail.com</td>\n",
       "      <td>3023322563</td>\n",
       "      <td>Bogotá</td>\n",
       "    </tr>\n",
       "    <tr>\n",
       "      <th>2318</th>\n",
       "      <td>Andrés</td>\n",
       "      <td>Pérez</td>\n",
       "      <td>andrés.pérez@hotmail.com</td>\n",
       "      <td>3092149467</td>\n",
       "      <td>Cartagena</td>\n",
       "    </tr>\n",
       "    <tr>\n",
       "      <th>2407</th>\n",
       "      <td>Daniela</td>\n",
       "      <td>Rodríguez</td>\n",
       "      <td>daniela.rodríguez@hotmail.com</td>\n",
       "      <td>3094219511</td>\n",
       "      <td>Bogotá</td>\n",
       "    </tr>\n",
       "  </tbody>\n",
       "</table>\n",
       "<p>466 rows × 5 columns</p>\n",
       "</div>"
      ],
      "text/plain": [
       "       Nombre   Apellido                         Correo    Telefono  \\\n",
       "0       Sofía       Ruiz           sofía.ruiz@gmail.com  3062852055   \n",
       "1       Pedro  Rodríguez      pedro.rodríguez@yahoo.com  3030542678   \n",
       "2       Pedro       Ruiz          pedro.ruiz@utb.edu.co  3066583181   \n",
       "3       María       Ruiz         maría.ruiz@hotmail.com  3112139650   \n",
       "4        Luis     Torres          luis.torres@gmail.com  3071380359   \n",
       "...       ...        ...                            ...         ...   \n",
       "1899     Luis    Ramírez         luis.ramírez@gmail.com  3191749495   \n",
       "1977   Carlos     Torres        carlos.torres@gmail.com  3025273159   \n",
       "2037   Andrés  Fernández     andrés.fernández@gmail.com  3023322563   \n",
       "2318   Andrés      Pérez       andrés.pérez@hotmail.com  3092149467   \n",
       "2407  Daniela  Rodríguez  daniela.rodríguez@hotmail.com  3094219511   \n",
       "\n",
       "            Ciudad  \n",
       "0         Medellín  \n",
       "1           Cúcuta  \n",
       "2        Cartagena  \n",
       "3           Cúcuta  \n",
       "4     Barranquilla  \n",
       "...            ...  \n",
       "1899       Pereira  \n",
       "1977     Cartagena  \n",
       "2037        Bogotá  \n",
       "2318     Cartagena  \n",
       "2407        Bogotá  \n",
       "\n",
       "[466 rows x 5 columns]"
      ]
     },
     "execution_count": 44,
     "metadata": {},
     "output_type": "execute_result"
    }
   ],
   "source": [
    "dataset_limpio = df.drop_duplicates(subset=\"Correo\", keep=\"first\")\n",
    "dataset_limpio = dataset_limpio.drop_duplicates(subset=\"Telefono\", keep=\"first\")"
   ]
  },
  {
   "cell_type": "code",
   "execution_count": 45,
   "id": "c65a2802",
   "metadata": {
    "vscode": {
     "languageId": "ruby"
    }
   },
   "outputs": [
    {
     "data": {
      "text/plain": [
       "Correo\n",
       "pedro.ruiz@utb.edu.co            1\n",
       "daniela.rodríguez@hotmail.com    1\n",
       "andrés.ramírez@gmail.com         1\n",
       "andrés.gómez@hotmail.com         1\n",
       "sofía.ruiz@utb.edu.co            1\n",
       "Name: count, dtype: Int64"
      ]
     },
     "execution_count": 45,
     "metadata": {},
     "output_type": "execute_result"
    }
   ],
   "source": [
    "dataset_limpio[\"Correo\"].value_counts().head(5)"
   ]
  }
 ],
 "metadata": {
  "kernelspec": {
   "display_name": "Python 3",
   "language": "python",
   "name": "python3"
  },
  "language_info": {
   "codemirror_mode": {
    "name": "ipython",
    "version": 3
   },
   "file_extension": ".py",
   "mimetype": "text/x-python",
   "name": "python",
   "nbconvert_exporter": "python",
   "pygments_lexer": "ipython3",
   "version": "3.13.2"
  }
 },
 "nbformat": 4,
 "nbformat_minor": 5
}
